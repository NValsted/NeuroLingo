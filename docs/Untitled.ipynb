{
 "cells": [
  {
   "cell_type": "code",
   "execution_count": 4,
   "id": "experimental-surname",
   "metadata": {},
   "outputs": [
    {
     "data": {
      "text/plain": [
       "'1.8.0'"
      ]
     },
     "execution_count": 4,
     "metadata": {},
     "output_type": "execute_result"
    }
   ],
   "source": [
    "import torch\n",
    "import json\n",
    "import re\n",
    "torch.__version__"
   ]
  },
  {
   "cell_type": "code",
   "execution_count": 12,
   "id": "attended-protection",
   "metadata": {},
   "outputs": [],
   "source": [
    "def reader(file):\n",
    "    data = []\n",
    "    with open(f'../data/{file}', 'r') as file:\n",
    "        for line in file.readlines():\n",
    "            data.append(json.loads(line))\n",
    "    return data"
   ]
  },
  {
   "cell_type": "code",
   "execution_count": 14,
   "id": "adaptive-lottery",
   "metadata": {},
   "outputs": [
    {
     "data": {
      "text/plain": [
       "[{'verified': True,\n",
       "  'reviewTime': '09 11, 2013',\n",
       "  'reviewerID': 'AC2PL52NKPL29',\n",
       "  'asin': '0001388703',\n",
       "  'style': {'Format:': ' Audio CD'},\n",
       "  'reviewText': 'So creative!  Love his music - the words, the message! Some of my favorite songs on this CD. I should have bought it years ago!',\n",
       "  'summary': 'Gotta listen to this!',\n",
       "  'unixReviewTime': 1378857600,\n",
       "  'sentiment': 'positive',\n",
       "  'id': 0},\n",
       " {'verified': False,\n",
       "  'reviewTime': '05 14, 2009',\n",
       "  'reviewerID': 'A3NVGWKHLULDHR',\n",
       "  'asin': '0001388703',\n",
       "  'style': {'Format:': ' Audio Cassette'},\n",
       "  'reviewText': 'This tape can hardly be understood and it was listed for sale as \"very good\".  It\\'s VERY BAD.',\n",
       "  'summary': 'Shame Shame',\n",
       "  'unixReviewTime': 1242259200,\n",
       "  'sentiment': 'negative',\n",
       "  'id': 1},\n",
       " {'verified': True,\n",
       "  'reviewTime': '05 15, 2015',\n",
       "  'reviewerID': 'AZ3T21W6CW0MW',\n",
       "  'asin': '0001388703',\n",
       "  'style': {'Format:': ' MP3 Music'},\n",
       "  'reviewText': \"Buy the CD.  Do not buy the MP3 album.  Download is no longer available.  But you don't find that out until after you have purchased it.\",\n",
       "  'summary': 'Buy the CD.  Do not buy the MP3.',\n",
       "  'unixReviewTime': 1431648000,\n",
       "  'sentiment': 'negative',\n",
       "  'id': 2},\n",
       " {'reviewerID': 'A50DSLM71EAVO',\n",
       "  'asin': '0001526146',\n",
       "  'verified': True,\n",
       "  'reviewText': 'I love Dallas Holms music and voice!  Thank You!  I will be attending all his concerts in heaven, forever!',\n",
       "  'reviewTime': '10 3, 2016',\n",
       "  'summary': 'Five Stars',\n",
       "  'unixReviewTime': 1475452800,\n",
       "  'sentiment': 'positive',\n",
       "  'id': 3},\n",
       " {'verified': False,\n",
       "  'reviewTime': '12 11, 2014',\n",
       "  'reviewerID': 'AKNKAT9XGAFPE',\n",
       "  'asin': '0001527134',\n",
       "  'style': {'Format:': ' Audio CD'},\n",
       "  'reviewText': 'Great memories of my early years in Christ',\n",
       "  'summary': 'Five Stars',\n",
       "  'unixReviewTime': 1418256000,\n",
       "  'sentiment': 'positive',\n",
       "  'id': 4},\n",
       " {'verified': True,\n",
       "  'reviewTime': '10 6, 2015',\n",
       "  'reviewerID': 'A3ZCIEUX68DEZ',\n",
       "  'asin': '0001377647',\n",
       "  'style': {'Format:': ' Audio CD'},\n",
       "  'reviewText': 'I have been listening to this album set my ENTIRE life (30 years!) I remember hearing this CD on repeat every night as a toddler, and it brought me comfort to sleep, as I always had to have some music or a fan to rest. Well worth it for relaxation!',\n",
       "  'summary': 'Sweet Dreams...',\n",
       "  'unixReviewTime': 1444089600,\n",
       "  'sentiment': 'positive',\n",
       "  'id': 5},\n",
       " {'verified': True,\n",
       "  'reviewTime': '07 30, 2014',\n",
       "  'reviewerID': 'A1NA7SPTRM2AXY',\n",
       "  'asin': '0001377647',\n",
       "  'style': {'Format:': ' Audio CD'},\n",
       "  'reviewText': 'I love all of his music!!',\n",
       "  'summary': 'Five Stars',\n",
       "  'unixReviewTime': 1406678400,\n",
       "  'sentiment': 'positive',\n",
       "  'id': 6},\n",
       " {'verified': True,\n",
       "  'reviewTime': '07 16, 2015',\n",
       "  'reviewerID': 'A131PRFG7R81ZD',\n",
       "  'asin': '0006935257',\n",
       "  'reviewText': 'Love Talbot music very inspiring and since this was a gift, I just have to buy it for myself soon.',\n",
       "  'summary': 'Love Talbot music very inspiring and since this was a ...',\n",
       "  'unixReviewTime': 1437004800,\n",
       "  'sentiment': 'positive',\n",
       "  'id': 7},\n",
       " {'verified': True,\n",
       "  'reviewTime': '09 28, 2014',\n",
       "  'reviewerID': 'A1P4A10YRAHMJ0',\n",
       "  'asin': '0006935257',\n",
       "  'style': {'Format:': ' Audio CD'},\n",
       "  'reviewText': 'Most unique  sound.  Nothing  even  similar  among  praise music  choices.  Truly  real  and  worshipful.  I  am  referring  only  to  the  older  \"The  Lords  supper \"  part  extending  to  track  9  or  so.',\n",
       "  'summary': 'Most unique sound. Nothing even similar among praise music ...',\n",
       "  'unixReviewTime': 1411862400,\n",
       "  'sentiment': 'positive',\n",
       "  'id': 8},\n",
       " {'verified': False,\n",
       "  'reviewTime': '02 8, 2012',\n",
       "  'reviewerID': 'AFS9H4KSH9P4V',\n",
       "  'asin': '0006935257',\n",
       "  'reviewText': 'The item ordered arrived in a timely manner.  I was quite impressed.  The quality of the cd/music i fantastic.  I am very satisfied.',\n",
       "  'summary': 'CD Review',\n",
       "  'unixReviewTime': 1328659200,\n",
       "  'sentiment': 'positive',\n",
       "  'id': 9},\n",
       " {'vote': '5',\n",
       "  'verified': True,\n",
       "  'reviewTime': '05 6, 2010',\n",
       "  'reviewerID': 'A2A5LZRHATT3IL',\n",
       "  'asin': '0006935257',\n",
       "  'reviewText': 'If your preferences for religious music fall half way between the old church chants and modern praise music, this is the artist to listen to.',\n",
       "  'summary': \"Lord's Supper\",\n",
       "  'unixReviewTime': 1273104000,\n",
       "  'sentiment': 'positive',\n",
       "  'id': 10}]"
      ]
     },
     "execution_count": 14,
     "metadata": {},
     "output_type": "execute_result"
    }
   ],
   "source": [
    "def token(line):\n",
    "    "
   ]
  },
  {
   "cell_type": "code",
   "execution_count": null,
   "id": "smoking-number",
   "metadata": {},
   "outputs": [],
   "source": []
  }
 ],
 "metadata": {
  "kernelspec": {
   "display_name": "Python 3",
   "language": "python",
   "name": "python3"
  },
  "language_info": {
   "codemirror_mode": {
    "name": "ipython",
    "version": 3
   },
   "file_extension": ".py",
   "mimetype": "text/x-python",
   "name": "python",
   "nbconvert_exporter": "python",
   "pygments_lexer": "ipython3",
   "version": "3.9.2"
  }
 },
 "nbformat": 4,
 "nbformat_minor": 5
}
