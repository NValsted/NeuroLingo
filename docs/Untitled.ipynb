{
 "cells": [
  {
   "cell_type": "code",
   "execution_count": null,
   "id": "allied-sauce",
   "metadata": {},
   "outputs": [],
   "source": [
    "import torch\n",
    "import json\n",
    "from nltk.tokenize import word_tokenize\n",
    "import gensim\n",
    "from sklearn.svm import SVC\n",
    "from sklearn.metrics import f1_score"
   ]
  },
  {
   "cell_type": "code",
   "execution_count": null,
   "id": "pointed-maryland",
   "metadata": {},
   "outputs": [],
   "source": [
    "def reader(file):\n",
    "    data = []\n",
    "    with open(f'../data/{file}', 'r') as file:\n",
    "        for line in file.readlines():\n",
    "            data.append(json.loads(line))\n",
    "    return data"
   ]
  },
  {
   "cell_type": "code",
   "execution_count": null,
   "id": "institutional-causing",
   "metadata": {},
   "outputs": [],
   "source": [
    "dev, test, train = [reader(file) for file in ['music_reviews_dev.json',\n",
    "                                              'music_reviews_test_masked.json',\n",
    "                                              'music_reviews_train.json']]"
   ]
  },
  {
   "cell_type": "code",
   "execution_count": null,
   "id": "chinese-cutting",
   "metadata": {},
   "outputs": [],
   "source": [
    "def tokenize(file):\n",
    "    X = []\n",
    "    y = []\n",
    "    for review in file:\n",
    "        if 'reviewText' in review.keys():\n",
    "            X.append(word_tokenize(review['reviewText']))\n",
    "            if review['sentiment'] == 'positive':\n",
    "                y.append(1)\n",
    "            elif review['sentiment'] == 'negative':\n",
    "                y.append(0)\n",
    "            else:\n",
    "                y.append(-1)\n",
    "    return X, y"
   ]
  },
  {
   "cell_type": "code",
   "execution_count": null,
   "id": "sexual-metadata",
   "metadata": {},
   "outputs": [],
   "source": [
    "dev_tok, test_tok, train_tok = [tokenize(file) for file in [dev, test, train]]\n",
    "dev_X, dev_y, test_X, test_y, train_X, train_y = dev_tok[0], dev_tok[1], test_tok[0], test_tok[1], train_tok[0], train_tok[1]"
   ]
  },
  {
   "cell_type": "code",
   "execution_count": null,
   "id": "instant-generation",
   "metadata": {},
   "outputs": [],
   "source": [
    "model = gensim.models.KeyedVectors.load_word2vec_format('../data/twitter.bin', binary=True)\n",
    "vocab = set(model.vocab.keys())"
   ]
  },
  {
   "cell_type": "code",
   "execution_count": null,
   "id": "friendly-superior",
   "metadata": {},
   "outputs": [],
   "source": [
    "def embed(data):\n",
    "    out = []\n",
    "    for review in data:\n",
    "        tmp = []\n",
    "        for word in review:\n",
    "            tmp.append(model[word]) if word in vocab else data.append(model['<U>'])\n",
    "        out.append(sum(tmp))\n",
    "    return out"
   ]
  },
  {
   "cell_type": "code",
   "execution_count": null,
   "id": "applied-moscow",
   "metadata": {},
   "outputs": [],
   "source": [
    "dev_X, test_X, train_X = [embed(data) for data in [dev_X, test_X, train_X]]"
   ]
  },
  {
   "cell_type": "code",
   "execution_count": null,
   "id": "square-programming",
   "metadata": {},
   "outputs": [],
   "source": [
    "clf = SVC()\n",
    "clf.fit(train_X, train_y)\n",
    "p = clf.predict(dev_X)\n",
    "f1_score(dev_y, p)"
   ]
  },
  {
   "cell_type": "code",
   "execution_count": null,
   "id": "surrounded-debut",
   "metadata": {},
   "outputs": [],
   "source": []
  }
 ],
 "metadata": {
  "kernelspec": {
   "display_name": "Python 3",
   "language": "python",
   "name": "python3"
  },
  "language_info": {
   "codemirror_mode": {
    "name": "ipython",
    "version": 3
   },
   "file_extension": ".py",
   "mimetype": "text/x-python",
   "name": "python",
   "nbconvert_exporter": "python",
   "pygments_lexer": "ipython3",
   "version": "3.9.2"
  }
 },
 "nbformat": 4,
 "nbformat_minor": 5
}
